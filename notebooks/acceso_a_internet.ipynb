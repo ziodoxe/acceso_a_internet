{
 "cells": [
  {
   "cell_type": "markdown",
   "metadata": {},
   "source": [
    "## Lista de eliminaciones de columnas de la BDD 'Diseño de registros de la base hogar'.\n",
    "* AGLOMERADO(31): Solo nos quedaremos con estas filas, porque trabajaremos solo registros de TDF.\n",
    "* REALIZADA: No aporta a la nada a la base de datos\n",
    "* ANO4: Como toda la BDD es del año 2018, podems eliminarla.\n",
    "* TRIMESTRE: Como toda la BDD es del mismo trimestre, podems eliminarla.\n",
    "* POND_TIC: No hay suficientes datos sobre esta columna."
   ]
  },
  {
   "cell_type": "markdown",
   "metadata": {},
   "source": [
    "## Lista de eliminaciones de columnas de la BDD 'Diseño de registros de la base personas'.\n",
    "* AGLOMERADO(31): Solo nos quedaremos con estas filas, porque trabajaremos solo registros de TDF.\n",
    "* ANO4: Como toda la BDD es del año 2018, podems eliminarla.\n",
    "* TRIMESTRE: Como toda la BDD es del mismo trimestre, podems eliminarla.\n",
    "* POND_TIC: No hay suficientes datos sobre esta columna."
   ]
  }
 ],
 "metadata": {
  "language_info": {
   "name": "python"
  }
 },
 "nbformat": 4,
 "nbformat_minor": 2
}
