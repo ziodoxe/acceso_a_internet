{
 "cells": [
  {
   "cell_type": "code",
   "execution_count": 2,
   "metadata": {},
   "outputs": [],
   "source": [
    "#!pip install pandas"
   ]
  },
  {
   "cell_type": "markdown",
   "metadata": {},
   "source": [
    "## Importación de Librerias"
   ]
  },
  {
   "cell_type": "code",
   "execution_count": 3,
   "metadata": {},
   "outputs": [],
   "source": [
    "import pandas as pd\n",
    "import numpy as np\n",
    "from sklearn.model_selection import train_test_split\n",
    "from sklearn.linear_model import LogisticRegression\n",
    "from sklearn.metrics import accuracy_score, confusion_matrix, classification_report\n",
    "import matplotlib.pyplot as plt\n",
    "import seaborn as sns"
   ]
  },
  {
   "cell_type": "markdown",
   "metadata": {},
   "source": [
    "## Carga de Datos\n",
    "Se trabajará con 2 datasets, uno con datos referidos a las viviendas y otro referido a las personas habitantes de la vivienda."
   ]
  },
  {
   "cell_type": "code",
   "execution_count": 4,
   "metadata": {},
   "outputs": [],
   "source": [
    "# Carga de Datos de vivienda.\n",
    "df_hogares = pd.read_csv('../data/raw/EPH_usu_hogar_tic_t418.txt', delimiter=';')\n",
    "\n",
    "# Carga de Datos de personas.\n",
    "df_personas = pd.read_csv('../data/raw/EPH_usu_Indiv_tic_t418.txt', delimiter=';')"
   ]
  },
  {
   "cell_type": "markdown",
   "metadata": {},
   "source": [
    "## Impresión de Datos de viviendas"
   ]
  },
  {
   "cell_type": "code",
   "execution_count": 5,
   "metadata": {},
   "outputs": [
    {
     "name": "stdout",
     "output_type": "stream",
     "text": [
      "                          CODUSU  NRO_HOGAR  REALIZADA  ANO4  TRIMESTRE  \\\n",
      "0  TQRMNOPPQHJMKMCDEFIAH00622969          1          1  2018          4   \n",
      "1  TQRMNOPPQHJMLUCDEFIAH00622993          1          1  2018          4   \n",
      "2  TQRMNOPPQHMMLUCDEFIAH00594749          1          1  2018          4   \n",
      "3  TQRMNOPPRHJMLUCDEFIAH00623008          1          1  2018          4   \n",
      "4  TQRMNOPPSHJMKMCDEFIAH00623022          1          1  2018          4   \n",
      "\n",
      "   AGLOMERADO  POND_TIC  IH_II_01  IH_II_02  \n",
      "0           2       539         1         1  \n",
      "1           2       545         1         1  \n",
      "2           2       612         1         1  \n",
      "3           2       545         1         1  \n",
      "4           2       539         1         1  \n"
     ]
    }
   ],
   "source": [
    "\n",
    "print(df_hogares.head())"
   ]
  },
  {
   "cell_type": "markdown",
   "metadata": {},
   "source": [
    "## Impresión de Datos de personas"
   ]
  },
  {
   "cell_type": "code",
   "execution_count": 6,
   "metadata": {},
   "outputs": [
    {
     "name": "stdout",
     "output_type": "stream",
     "text": [
      "                          CODUSU  NRO_HOGAR  COMPONENTE  ANO4  TRIMESTRE  \\\n",
      "0  TQRMNOPPQHJMKMCDEFIAH00622969          1           1  2018          4   \n",
      "1  TQRMNOPPQHJMKMCDEFIAH00622969          1           2  2018          4   \n",
      "2  TQRMNOPPQHJMKMCDEFIAH00622969          1           3  2018          4   \n",
      "3  TQRMNOPPQHJMLUCDEFIAH00622993          1           1  2018          4   \n",
      "4  TQRMNOPPQHJMLUCDEFIAH00622993          1           2  2018          4   \n",
      "\n",
      "   AGLOMERADO  POND_TIC  RESPONDENTE  IP_III_04  IP_III_05  IP_III_06  \n",
      "0           2       539          1.0          1          1          1  \n",
      "1           2       539          1.0          1          1          1  \n",
      "2           2       539          1.0          1          1          1  \n",
      "3           2       545          2.0          1          1          1  \n",
      "4           2       545          2.0          1          1          1  \n"
     ]
    }
   ],
   "source": [
    "print(df_personas.head())"
   ]
  },
  {
   "cell_type": "markdown",
   "metadata": {},
   "source": [
    "## Limpieza y preparación de Datos"
   ]
  },
  {
   "cell_type": "code",
   "execution_count": 7,
   "metadata": {},
   "outputs": [
    {
     "data": {
      "text/html": [
       "<div>\n",
       "<style scoped>\n",
       "    .dataframe tbody tr th:only-of-type {\n",
       "        vertical-align: middle;\n",
       "    }\n",
       "\n",
       "    .dataframe tbody tr th {\n",
       "        vertical-align: top;\n",
       "    }\n",
       "\n",
       "    .dataframe thead th {\n",
       "        text-align: right;\n",
       "    }\n",
       "</style>\n",
       "<table border=\"1\" class=\"dataframe\">\n",
       "  <thead>\n",
       "    <tr style=\"text-align: right;\">\n",
       "      <th></th>\n",
       "      <th>codigo_vivienda</th>\n",
       "      <th>nro_hogar</th>\n",
       "      <th>tiene_computadora</th>\n",
       "      <th>acceso_internet</th>\n",
       "    </tr>\n",
       "  </thead>\n",
       "  <tbody>\n",
       "    <tr>\n",
       "      <th>12285</th>\n",
       "      <td>TQRMNOPPQHJMKPCDEIHJF00626473</td>\n",
       "      <td>1</td>\n",
       "      <td>1</td>\n",
       "      <td>1</td>\n",
       "    </tr>\n",
       "    <tr>\n",
       "      <th>12286</th>\n",
       "      <td>TQRMNOPPQHKMKNCDEIHJF00620952</td>\n",
       "      <td>1</td>\n",
       "      <td>1</td>\n",
       "      <td>1</td>\n",
       "    </tr>\n",
       "    <tr>\n",
       "      <th>12287</th>\n",
       "      <td>TQRMNOPPRHJMKPCDEIHJF00626438</td>\n",
       "      <td>1</td>\n",
       "      <td>1</td>\n",
       "      <td>1</td>\n",
       "    </tr>\n",
       "    <tr>\n",
       "      <th>12288</th>\n",
       "      <td>TQRMNOPPRHKNKQCDEIHJF00620859</td>\n",
       "      <td>1</td>\n",
       "      <td>1</td>\n",
       "      <td>1</td>\n",
       "    </tr>\n",
       "    <tr>\n",
       "      <th>12289</th>\n",
       "      <td>TQRMNOPPSHJMKMCDEIHJF00626453</td>\n",
       "      <td>1</td>\n",
       "      <td>1</td>\n",
       "      <td>1</td>\n",
       "    </tr>\n",
       "  </tbody>\n",
       "</table>\n",
       "</div>"
      ],
      "text/plain": [
       "                     codigo_vivienda  nro_hogar  tiene_computadora  \\\n",
       "12285  TQRMNOPPQHJMKPCDEIHJF00626473          1                  1   \n",
       "12286  TQRMNOPPQHKMKNCDEIHJF00620952          1                  1   \n",
       "12287  TQRMNOPPRHJMKPCDEIHJF00626438          1                  1   \n",
       "12288  TQRMNOPPRHKNKQCDEIHJF00620859          1                  1   \n",
       "12289  TQRMNOPPSHJMKMCDEIHJF00626453          1                  1   \n",
       "\n",
       "       acceso_internet  \n",
       "12285                1  \n",
       "12286                1  \n",
       "12287                1  \n",
       "12288                1  \n",
       "12289                1  "
      ]
     },
     "execution_count": 7,
     "metadata": {},
     "output_type": "execute_result"
    }
   ],
   "source": [
    "# Selección de filas relevantes para el análisis de hogares (solo trabajaremos con datos de Rio Grande y Ushuaia)\n",
    "df_hogartdf = df_hogares[df_hogares['AGLOMERADO'] == 31]\n",
    "\n",
    "# Selección de columnas relevantes para el análisis de hogares\n",
    "hogar_cols = ['CODUSU', 'NRO_HOGAR', 'IH_II_01', 'IH_II_02']\n",
    "df_hogartdf = df_hogartdf[hogar_cols]\n",
    "\n",
    "# Renombrando columnas para mayor claridad\n",
    "df_hogartdf.columns = ['codigo_vivienda', 'nro_hogar', 'tiene_computadora', 'acceso_internet']\n",
    "\n",
    "# Eliminación de filas con valores faltantes\n",
    "df_hogartdf = df_hogartdf.dropna()\n",
    "\n",
    "# Vista previa del dataset de viviendas\n",
    "df_hogartdf.head()"
   ]
  },
  {
   "cell_type": "code",
   "execution_count": 8,
   "metadata": {},
   "outputs": [
    {
     "data": {
      "text/html": [
       "<div>\n",
       "<style scoped>\n",
       "    .dataframe tbody tr th:only-of-type {\n",
       "        vertical-align: middle;\n",
       "    }\n",
       "\n",
       "    .dataframe tbody tr th {\n",
       "        vertical-align: top;\n",
       "    }\n",
       "\n",
       "    .dataframe thead th {\n",
       "        text-align: right;\n",
       "    }\n",
       "</style>\n",
       "<table border=\"1\" class=\"dataframe\">\n",
       "  <thead>\n",
       "    <tr style=\"text-align: right;\">\n",
       "      <th></th>\n",
       "      <th>codigo_vivienda</th>\n",
       "      <th>nro_hogar</th>\n",
       "      <th>uso_internet</th>\n",
       "      <th>uso_computadora</th>\n",
       "      <th>uso_movil</th>\n",
       "    </tr>\n",
       "  </thead>\n",
       "  <tbody>\n",
       "    <tr>\n",
       "      <th>36805</th>\n",
       "      <td>TQRMNOPPQHJMKPCDEIHJF00626473</td>\n",
       "      <td>1</td>\n",
       "      <td>1</td>\n",
       "      <td>1</td>\n",
       "      <td>1</td>\n",
       "    </tr>\n",
       "    <tr>\n",
       "      <th>36806</th>\n",
       "      <td>TQRMNOPPQHJMKPCDEIHJF00626473</td>\n",
       "      <td>1</td>\n",
       "      <td>1</td>\n",
       "      <td>1</td>\n",
       "      <td>1</td>\n",
       "    </tr>\n",
       "    <tr>\n",
       "      <th>36807</th>\n",
       "      <td>TQRMNOPPQHKMKNCDEIHJF00620952</td>\n",
       "      <td>1</td>\n",
       "      <td>1</td>\n",
       "      <td>1</td>\n",
       "      <td>1</td>\n",
       "    </tr>\n",
       "    <tr>\n",
       "      <th>36808</th>\n",
       "      <td>TQRMNOPPQHKMKNCDEIHJF00620952</td>\n",
       "      <td>1</td>\n",
       "      <td>1</td>\n",
       "      <td>1</td>\n",
       "      <td>1</td>\n",
       "    </tr>\n",
       "    <tr>\n",
       "      <th>36809</th>\n",
       "      <td>TQRMNOPPQHKMKNCDEIHJF00620952</td>\n",
       "      <td>1</td>\n",
       "      <td>1</td>\n",
       "      <td>1</td>\n",
       "      <td>2</td>\n",
       "    </tr>\n",
       "  </tbody>\n",
       "</table>\n",
       "</div>"
      ],
      "text/plain": [
       "                     codigo_vivienda  nro_hogar  uso_internet  \\\n",
       "36805  TQRMNOPPQHJMKPCDEIHJF00626473          1             1   \n",
       "36806  TQRMNOPPQHJMKPCDEIHJF00626473          1             1   \n",
       "36807  TQRMNOPPQHKMKNCDEIHJF00620952          1             1   \n",
       "36808  TQRMNOPPQHKMKNCDEIHJF00620952          1             1   \n",
       "36809  TQRMNOPPQHKMKNCDEIHJF00620952          1             1   \n",
       "\n",
       "       uso_computadora  uso_movil  \n",
       "36805                1          1  \n",
       "36806                1          1  \n",
       "36807                1          1  \n",
       "36808                1          1  \n",
       "36809                1          2  "
      ]
     },
     "execution_count": 8,
     "metadata": {},
     "output_type": "execute_result"
    }
   ],
   "source": [
    "# Selección de columnas relevantes para el análisis de personas (solo trabajaremos con datos de Rio Grande y Ushuaia)\n",
    "df_personatdf = df_personas[df_personas['AGLOMERADO'] == 31]\n",
    "\n",
    "# Selección de columnas relevantes para el análisis de personas\n",
    "persona_cols = ['CODUSU', 'NRO_HOGAR', 'IP_III_04', 'IP_III_05', 'IP_III_06']\n",
    "df_personatdf = df_personatdf[persona_cols]\n",
    "\n",
    "# Renombrando columnas para mayor claridad\n",
    "df_personatdf.columns = ['codigo_vivienda', 'nro_hogar', 'uso_internet', 'uso_computadora', 'uso_movil']\n",
    "\n",
    "# Eliminación de filas con valores faltantes\n",
    "df_personatdf = df_personatdf.dropna()\n",
    "\n",
    "# Vista previa del dataset de personas\n",
    "df_personatdf.head()"
   ]
  },
  {
   "cell_type": "markdown",
   "metadata": {},
   "source": [
    "## Análisis Descriptivo de los Datos"
   ]
  },
  {
   "cell_type": "code",
   "execution_count": 9,
   "metadata": {},
   "outputs": [
    {
     "name": "stdout",
     "output_type": "stream",
     "text": [
      "\n",
      "Proporción de hogares con acceso a internet: (1 SI tiene acceso, 2 NO tiene acceso)\n",
      "acceso_internet\n",
      "1    0.894472\n",
      "2    0.105528\n",
      "Name: proportion, dtype: float64\n",
      "\n",
      "Proporción de personas que usan internet: (1 SI usa internet, 2 NO usa internet)\n",
      "uso_internet\n",
      "1    0.913462\n",
      "2    0.086538\n",
      "Name: proportion, dtype: float64\n"
     ]
    }
   ],
   "source": [
    "# Proporción de hogares con acceso a internet\n",
    "print(\"\\nProporción de hogares con acceso a internet: (1 SI tiene acceso, 2 NO tiene acceso)\")\n",
    "print(df_hogartdf['acceso_internet'].value_counts(normalize=True))\n",
    "\n",
    "# Proporción de uso de internet entre personas\n",
    "print(\"\\nProporción de personas que usan internet: (1 SI usa internet, 2 NO usa internet)\")\n",
    "print(df_personatdf['uso_internet'].value_counts(normalize=True))"
   ]
  },
  {
   "cell_type": "markdown",
   "metadata": {},
   "source": [
    "## Construcción del Modelo de Regresión Logística"
   ]
  },
  {
   "cell_type": "code",
   "execution_count": 10,
   "metadata": {},
   "outputs": [
    {
     "data": {
      "text/html": [
       "<div>\n",
       "<style scoped>\n",
       "    .dataframe tbody tr th:only-of-type {\n",
       "        vertical-align: middle;\n",
       "    }\n",
       "\n",
       "    .dataframe tbody tr th {\n",
       "        vertical-align: top;\n",
       "    }\n",
       "\n",
       "    .dataframe thead th {\n",
       "        text-align: right;\n",
       "    }\n",
       "</style>\n",
       "<table border=\"1\" class=\"dataframe\">\n",
       "  <thead>\n",
       "    <tr style=\"text-align: right;\">\n",
       "      <th></th>\n",
       "      <th>codigo_vivienda</th>\n",
       "      <th>nro_hogar</th>\n",
       "      <th>tiene_computadora</th>\n",
       "      <th>acceso_internet</th>\n",
       "      <th>uso_internet</th>\n",
       "      <th>uso_computadora</th>\n",
       "      <th>uso_movil</th>\n",
       "    </tr>\n",
       "  </thead>\n",
       "  <tbody>\n",
       "    <tr>\n",
       "      <th>0</th>\n",
       "      <td>TQRMNOPPQHJMKPCDEIHJF00626473</td>\n",
       "      <td>1</td>\n",
       "      <td>1</td>\n",
       "      <td>1</td>\n",
       "      <td>1</td>\n",
       "      <td>1</td>\n",
       "      <td>1</td>\n",
       "    </tr>\n",
       "    <tr>\n",
       "      <th>1</th>\n",
       "      <td>TQRMNOPPQHJMKPCDEIHJF00626473</td>\n",
       "      <td>1</td>\n",
       "      <td>1</td>\n",
       "      <td>1</td>\n",
       "      <td>1</td>\n",
       "      <td>1</td>\n",
       "      <td>1</td>\n",
       "    </tr>\n",
       "    <tr>\n",
       "      <th>2</th>\n",
       "      <td>TQRMNOPPQHKMKNCDEIHJF00620952</td>\n",
       "      <td>1</td>\n",
       "      <td>1</td>\n",
       "      <td>1</td>\n",
       "      <td>1</td>\n",
       "      <td>1</td>\n",
       "      <td>1</td>\n",
       "    </tr>\n",
       "    <tr>\n",
       "      <th>3</th>\n",
       "      <td>TQRMNOPPQHKMKNCDEIHJF00620952</td>\n",
       "      <td>1</td>\n",
       "      <td>1</td>\n",
       "      <td>1</td>\n",
       "      <td>1</td>\n",
       "      <td>1</td>\n",
       "      <td>1</td>\n",
       "    </tr>\n",
       "    <tr>\n",
       "      <th>4</th>\n",
       "      <td>TQRMNOPPQHKMKNCDEIHJF00620952</td>\n",
       "      <td>1</td>\n",
       "      <td>1</td>\n",
       "      <td>1</td>\n",
       "      <td>1</td>\n",
       "      <td>1</td>\n",
       "      <td>2</td>\n",
       "    </tr>\n",
       "  </tbody>\n",
       "</table>\n",
       "</div>"
      ],
      "text/plain": [
       "                 codigo_vivienda  nro_hogar  tiene_computadora  \\\n",
       "0  TQRMNOPPQHJMKPCDEIHJF00626473          1                  1   \n",
       "1  TQRMNOPPQHJMKPCDEIHJF00626473          1                  1   \n",
       "2  TQRMNOPPQHKMKNCDEIHJF00620952          1                  1   \n",
       "3  TQRMNOPPQHKMKNCDEIHJF00620952          1                  1   \n",
       "4  TQRMNOPPQHKMKNCDEIHJF00620952          1                  1   \n",
       "\n",
       "   acceso_internet  uso_internet  uso_computadora  uso_movil  \n",
       "0                1             1                1          1  \n",
       "1                1             1                1          1  \n",
       "2                1             1                1          1  \n",
       "3                1             1                1          1  \n",
       "4                1             1                1          2  "
      ]
     },
     "execution_count": 10,
     "metadata": {},
     "output_type": "execute_result"
    }
   ],
   "source": [
    "# Unir datos de hogares y personas\n",
    "df_hogares_personas = pd.merge(df_hogartdf, df_personatdf, on=['codigo_vivienda', 'nro_hogar'])\n",
    "\n",
    "# Vista previa del dataset unificado\n",
    "df_hogares_personas.head()"
   ]
  },
  {
   "cell_type": "code",
   "execution_count": 11,
   "metadata": {},
   "outputs": [],
   "source": [
    "# Convertir valores 'SI' (1) y 'NO' (2) a 1 y 0\n",
    "df_hogares_personas['tiene_computadora'] = df_hogares_personas['tiene_computadora'].apply(lambda x: 1 if x == 1 else 0)\n",
    "df_hogares_personas['acceso_internet'] = df_hogares_personas['acceso_internet'].apply(lambda x: 1 if x == 1 else 0)\n",
    "df_hogares_personas['uso_internet'] = df_hogares_personas['uso_internet'].apply(lambda x: 1 if x == 1 else 0)\n",
    "df_hogares_personas['uso_computadora'] = df_hogares_personas['uso_computadora'].apply(lambda x: 1 if x == 1 else 0)\n",
    "df_hogares_personas['uso_movil'] = df_hogares_personas['uso_movil'].apply(lambda x: 1 if x == 1 else 0)"
   ]
  },
  {
   "cell_type": "markdown",
   "metadata": {},
   "source": [
    "## Agrupar los Datos por Vivienda"
   ]
  },
  {
   "cell_type": "code",
   "execution_count": 12,
   "metadata": {},
   "outputs": [],
   "source": [
    "data_group_vivienda = df_hogares_personas.groupby('codigo_vivienda').mean().reset_index()"
   ]
  },
  {
   "cell_type": "markdown",
   "metadata": {},
   "source": [
    "## Seleccionar las Características y la Variable Objetivo"
   ]
  },
  {
   "cell_type": "code",
   "execution_count": 13,
   "metadata": {},
   "outputs": [],
   "source": [
    "features = ['tiene_computadora', 'uso_internet', 'uso_computadora', 'uso_movil']\n",
    "X = data_group_vivienda[features]\n",
    "y = data_group_vivienda['acceso_internet']"
   ]
  },
  {
   "cell_type": "markdown",
   "metadata": {},
   "source": [
    "## Crear Gráficos de Dispersión"
   ]
  },
  {
   "cell_type": "code",
   "execution_count": 14,
   "metadata": {},
   "outputs": [
    {
     "data": {
      "image/png": "[encoded data removed]",
      "text/plain": [
       "<Figure size 1500x1000 with 4 Axes>"
      ]
     },
     "metadata": {},
     "output_type": "display_data"
    }
   ],
   "source": [
    "plt.figure(figsize=(15, 10))\n",
    "\n",
    "for i, feature in enumerate(features, 1):\n",
    "    plt.subplot(2, 2, i)\n",
    "    sns.scatterplot(data=data_group_vivienda, x=feature, y='acceso_internet')\n",
    "    plt.title(f'{feature} vs acceso_internet')\n",
    "    plt.xlabel(feature)\n",
    "    plt.ylabel('acceso_internet')\n",
    "\n",
    "plt.tight_layout()\n",
    "plt.show()"
   ]
  },
  {
   "cell_type": "markdown",
   "metadata": {},
   "source": [
    "## Dividir los Datos en Conjuntos de Entrenamiento y Prueba"
   ]
  },
  {
   "cell_type": "code",
   "execution_count": 15,
   "metadata": {},
   "outputs": [],
   "source": [
    "X_train, X_test, y_train, y_test = train_test_split(X, y, test_size=0.2, random_state=42)"
   ]
  },
  {
   "cell_type": "markdown",
   "metadata": {},
   "source": [
    "## Crear y Entrenar el Modelo de Regresión Logística"
   ]
  },
  {
   "cell_type": "code",
   "execution_count": 16,
   "metadata": {},
   "outputs": [
    {
     "data": {
      "text/html": [
       "<style>#sk-container-id-1 {\n",
       "  /* Definition of color scheme common for light and dark mode */\n",
       "  --sklearn-color-text: black;\n",
       "  --sklearn-color-line: gray;\n",
       "  /* Definition of color scheme for unfitted estimators */\n",
       "  --sklearn-color-unfitted-level-0: #fff5e6;\n",
       "  --sklearn-color-unfitted-level-1: #f6e4d2;\n",
       "  --sklearn-color-unfitted-level-2: #ffe0b3;\n",
       "  --sklearn-color-unfitted-level-3: chocolate;\n",
       "  /* Definition of color scheme for fitted estimators */\n",
       "  --sklearn-color-fitted-level-0: #f0f8ff;\n",
       "  --sklearn-color-fitted-level-1: #d4ebff;\n",
       "  --sklearn-color-fitted-level-2: #b3dbfd;\n",
       "  --sklearn-color-fitted-level-3: cornflowerblue;\n",
       "\n",
       "  /* Specific color for light theme */\n",
       "  --sklearn-color-text-on-default-background: var(--sg-text-color, var(--theme-code-foreground, var(--jp-content-font-color1, black)));\n",
       "  --sklearn-color-background: var(--sg-background-color, var(--theme-background, var(--jp-layout-color0, white)));\n",
       "  --sklearn-color-border-box: var(--sg-text-color, var(--theme-code-foreground, var(--jp-content-font-color1, black)));\n",
       "  --sklearn-color-icon: #696969;\n",
       "\n",
       "  @media (prefers-color-scheme: dark) {\n",
       "    /* Redefinition of color scheme for dark theme */\n",
       "    --sklearn-color-text-on-default-background: var(--sg-text-color, var(--theme-code-foreground, var(--jp-content-font-color1, white)));\n",
       "    --sklearn-color-background: var(--sg-background-color, var(--theme-background, var(--jp-layout-color0, #111)));\n",
       "    --sklearn-color-border-box: var(--sg-text-color, var(--theme-code-foreground, var(--jp-content-font-color1, white)));\n",
       "    --sklearn-color-icon: #878787;\n",
       "  }\n",
       "}\n",
       "\n",
       "#sk-container-id-1 {\n",
       "  color: var(--sklearn-color-text);\n",
       "}\n",
       "\n",
       "#sk-container-id-1 pre {\n",
       "  padding: 0;\n",
       "}\n",
       "\n",
       "#sk-container-id-1 input.sk-hidden--visually {\n",
       "  border: 0;\n",
       "  clip: rect(1px 1px 1px 1px);\n",
       "  clip: rect(1px, 1px, 1px, 1px);\n",
       "  height: 1px;\n",
       "  margin: -1px;\n",
       "  overflow: hidden;\n",
       "  padding: 0;\n",
       "  position: absolute;\n",
       "  width: 1px;\n",
       "}\n",
       "\n",
       "#sk-container-id-1 div.sk-dashed-wrapped {\n",
       "  border: 1px dashed var(--sklearn-color-line);\n",
       "  margin: 0 0.4em 0.5em 0.4em;\n",
       "  box-sizing: border-box;\n",
       "  padding-bottom: 0.4em;\n",
       "  background-color: var(--sklearn-color-background);\n",
       "}\n",
       "\n",
       "#sk-container-id-1 div.sk-container {\n",
       "  /* jupyter's `normalize.less` sets `[hidden] { display: none; }`\n",
       "     but bootstrap.min.css set `[hidden] { display: none !important; }`\n",
       "     so we also need the `!important` here to be able to override the\n",
       "     default hidden behavior on the sphinx rendered scikit-learn.org.\n",
       "     See: https://github.com/scikit-learn/scikit-learn/issues/21755 */\n",
       "  display: inline-block !important;\n",
       "  position: relative;\n",
       "}\n",
       "\n",
       "#sk-container-id-1 div.sk-text-repr-fallback {\n",
       "  display: none;\n",
       "}\n",
       "\n",
       "div.sk-parallel-item,\n",
       "div.sk-serial,\n",
       "div.sk-item {\n",
       "  /* draw centered vertical line to link estimators */\n",
       "  background-image: linear-gradient(var(--sklearn-color-text-on-default-background), var(--sklearn-color-text-on-default-background));\n",
       "  background-size: 2px 100%;\n",
       "  background-repeat: no-repeat;\n",
       "  background-position: center center;\n",
       "}\n",
       "\n",
       "/* Parallel-specific style estimator block */\n",
       "\n",
       "#sk-container-id-1 div.sk-parallel-item::after {\n",
       "  content: \"\";\n",
       "  width: 100%;\n",
       "  border-bottom: 2px solid var(--sklearn-color-text-on-default-background);\n",
       "  flex-grow: 1;\n",
       "}\n",
       "\n",
       "#sk-container-id-1 div.sk-parallel {\n",
       "  display: flex;\n",
       "  align-items: stretch;\n",
       "  justify-content: center;\n",
       "  background-color: var(--sklearn-color-background);\n",
       "  position: relative;\n",
       "}\n",
       "\n",
       "#sk-container-id-1 div.sk-parallel-item {\n",
       "  display: flex;\n",
       "  flex-direction: column;\n",
       "}\n",
       "\n",
       "#sk-container-id-1 div.sk-parallel-item:first-child::after {\n",
       "  align-self: flex-end;\n",
       "  width: 50%;\n",
       "}\n",
       "\n",
       "#sk-container-id-1 div.sk-parallel-item:last-child::after {\n",
       "  align-self: flex-start;\n",
       "  width: 50%;\n",
       "}\n",
       "\n",
       "#sk-container-id-1 div.sk-parallel-item:only-child::after {\n",
       "  width: 0;\n",
       "}\n",
       "\n",
       "/* Serial-specific style estimator block */\n",
       "\n",
       "#sk-container-id-1 div.sk-serial {\n",
       "  display: flex;\n",
       "  flex-direction: column;\n",
       "  align-items: center;\n",
       "  background-color: var(--sklearn-color-background);\n",
       "  padding-right: 1em;\n",
       "  padding-left: 1em;\n",
       "}\n",
       "\n",
       "\n",
       "/* Toggleable style: style used for estimator/Pipeline/ColumnTransformer box that is\n",
       "clickable and can be expanded/collapsed.\n",
       "- Pipeline and ColumnTransformer use this feature and define the default style\n",
       "- Estimators will overwrite some part of the style using the `sk-estimator` class\n",
       "*/\n",
       "\n",
       "/* Pipeline and ColumnTransformer style (default) */\n",
       "\n",
       "#sk-container-id-1 div.sk-toggleable {\n",
       "  /* Default theme specific background. It is overwritten whether we have a\n",
       "  specific estimator or a Pipeline/ColumnTransformer */\n",
       "  background-color: var(--sklearn-color-background);\n",
       "}\n",
       "\n",
       "/* Toggleable label */\n",
       "#sk-container-id-1 label.sk-toggleable__label {\n",
       "  cursor: pointer;\n",
       "  display: block;\n",
       "  width: 100%;\n",
       "  margin-bottom: 0;\n",
       "  padding: 0.5em;\n",
       "  box-sizing: border-box;\n",
       "  text-align: center;\n",
       "}\n",
       "\n",
       "#sk-container-id-1 label.sk-toggleable__label-arrow:before {\n",
       "  /* Arrow on the left of the label */\n",
       "  content: \"▸\";\n",
       "  float: left;\n",
       "  margin-right: 0.25em;\n",
       "  color: var(--sklearn-color-icon);\n",
       "}\n",
       "\n",
       "#sk-container-id-1 label.sk-toggleable__label-arrow:hover:before {\n",
       "  color: var(--sklearn-color-text);\n",
       "}\n",
       "\n",
       "/* Toggleable content - dropdown */\n",
       "\n",
       "#sk-container-id-1 div.sk-toggleable__content {\n",
       "  max-height: 0;\n",
       "  max-width: 0;\n",
       "  overflow: hidden;\n",
       "  text-align: left;\n",
       "  /* unfitted */\n",
       "  background-color: var(--sklearn-color-unfitted-level-0);\n",
       "}\n",
       "\n",
       "#sk-container-id-1 div.sk-toggleable__content.fitted {\n",
       "  /* fitted */\n",
       "  background-color: var(--sklearn-color-fitted-level-0);\n",
       "}\n",
       "\n",
       "#sk-container-id-1 div.sk-toggleable__content pre {\n",
       "  margin: 0.2em;\n",
       "  border-radius: 0.25em;\n",
       "  color: var(--sklearn-color-text);\n",
       "  /* unfitted */\n",
       "  background-color: var(--sklearn-color-unfitted-level-0);\n",
       "}\n",
       "\n",
       "#sk-container-id-1 div.sk-toggleable__content.fitted pre {\n",
       "  /* unfitted */\n",
       "  background-color: var(--sklearn-color-fitted-level-0);\n",
       "}\n",
       "\n",
       "#sk-container-id-1 input.sk-toggleable__control:checked~div.sk-toggleable__content {\n",
       "  /* Expand drop-down */\n",
       "  max-height: 200px;\n",
       "  max-width: 100%;\n",
       "  overflow: auto;\n",
       "}\n",
       "\n",
       "#sk-container-id-1 input.sk-toggleable__control:checked~label.sk-toggleable__label-arrow:before {\n",
       "  content: \"▾\";\n",
       "}\n",
       "\n",
       "/* Pipeline/ColumnTransformer-specific style */\n",
       "\n",
       "#sk-container-id-1 div.sk-label input.sk-toggleable__control:checked~label.sk-toggleable__label {\n",
       "  color: var(--sklearn-color-text);\n",
       "  background-color: var(--sklearn-color-unfitted-level-2);\n",
       "}\n",
       "\n",
       "#sk-container-id-1 div.sk-label.fitted input.sk-toggleable__control:checked~label.sk-toggleable__label {\n",
       "  background-color: var(--sklearn-color-fitted-level-2);\n",
       "}\n",
       "\n",
       "/* Estimator-specific style */\n",
       "\n",
       "/* Colorize estimator box */\n",
       "#sk-container-id-1 div.sk-estimator input.sk-toggleable__control:checked~label.sk-toggleable__label {\n",
       "  /* unfitted */\n",
       "  background-color: var(--sklearn-color-unfitted-level-2);\n",
       "}\n",
       "\n",
       "#sk-container-id-1 div.sk-estimator.fitted input.sk-toggleable__control:checked~label.sk-toggleable__label {\n",
       "  /* fitted */\n",
       "  background-color: var(--sklearn-color-fitted-level-2);\n",
       "}\n",
       "\n",
       "#sk-container-id-1 div.sk-label label.sk-toggleable__label,\n",
       "#sk-container-id-1 div.sk-label label {\n",
       "  /* The background is the default theme color */\n",
       "  color: var(--sklearn-color-text-on-default-background);\n",
       "}\n",
       "\n",
       "/* On hover, darken the color of the background */\n",
       "#sk-container-id-1 div.sk-label:hover label.sk-toggleable__label {\n",
       "  color: var(--sklearn-color-text);\n",
       "  background-color: var(--sklearn-color-unfitted-level-2);\n",
       "}\n",
       "\n",
       "/* Label box, darken color on hover, fitted */\n",
       "#sk-container-id-1 div.sk-label.fitted:hover label.sk-toggleable__label.fitted {\n",
       "  color: var(--sklearn-color-text);\n",
       "  background-color: var(--sklearn-color-fitted-level-2);\n",
       "}\n",
       "\n",
       "/* Estimator label */\n",
       "\n",
       "#sk-container-id-1 div.sk-label label {\n",
       "  font-family: monospace;\n",
       "  font-weight: bold;\n",
       "  display: inline-block;\n",
       "  line-height: 1.2em;\n",
       "}\n",
       "\n",
       "#sk-container-id-1 div.sk-label-container {\n",
       "  text-align: center;\n",
       "}\n",
       "\n",
       "/* Estimator-specific */\n",
       "#sk-container-id-1 div.sk-estimator {\n",
       "  font-family: monospace;\n",
       "  border: 1px dotted var(--sklearn-color-border-box);\n",
       "  border-radius: 0.25em;\n",
       "  box-sizing: border-box;\n",
       "  margin-bottom: 0.5em;\n",
       "  /* unfitted */\n",
       "  background-color: var(--sklearn-color-unfitted-level-0);\n",
       "}\n",
       "\n",
       "#sk-container-id-1 div.sk-estimator.fitted {\n",
       "  /* fitted */\n",
       "  background-color: var(--sklearn-color-fitted-level-0);\n",
       "}\n",
       "\n",
       "/* on hover */\n",
       "#sk-container-id-1 div.sk-estimator:hover {\n",
       "  /* unfitted */\n",
       "  background-color: var(--sklearn-color-unfitted-level-2);\n",
       "}\n",
       "\n",
       "#sk-container-id-1 div.sk-estimator.fitted:hover {\n",
       "  /* fitted */\n",
       "  background-color: var(--sklearn-color-fitted-level-2);\n",
       "}\n",
       "\n",
       "/* Specification for estimator info (e.g. \"i\" and \"?\") */\n",
       "\n",
       "/* Common style for \"i\" and \"?\" */\n",
       "\n",
       ".sk-estimator-doc-link,\n",
       "a:link.sk-estimator-doc-link,\n",
       "a:visited.sk-estimator-doc-link {\n",
       "  float: right;\n",
       "  font-size: smaller;\n",
       "  line-height: 1em;\n",
       "  font-family: monospace;\n",
       "  background-color: var(--sklearn-color-background);\n",
       "  border-radius: 1em;\n",
       "  height: 1em;\n",
       "  width: 1em;\n",
       "  text-decoration: none !important;\n",
       "  margin-left: 1ex;\n",
       "  /* unfitted */\n",
       "  border: var(--sklearn-color-unfitted-level-1) 1pt solid;\n",
       "  color: var(--sklearn-color-unfitted-level-1);\n",
       "}\n",
       "\n",
       ".sk-estimator-doc-link.fitted,\n",
       "a:link.sk-estimator-doc-link.fitted,\n",
       "a:visited.sk-estimator-doc-link.fitted {\n",
       "  /* fitted */\n",
       "  border: var(--sklearn-color-fitted-level-1) 1pt solid;\n",
       "  color: var(--sklearn-color-fitted-level-1);\n",
       "}\n",
       "\n",
       "/* On hover */\n",
       "div.sk-estimator:hover .sk-estimator-doc-link:hover,\n",
       ".sk-estimator-doc-link:hover,\n",
       "div.sk-label-container:hover .sk-estimator-doc-link:hover,\n",
       ".sk-estimator-doc-link:hover {\n",
       "  /* unfitted */\n",
       "  background-color: var(--sklearn-color-unfitted-level-3);\n",
       "  color: var(--sklearn-color-background);\n",
       "  text-decoration: none;\n",
       "}\n",
       "\n",
       "div.sk-estimator.fitted:hover .sk-estimator-doc-link.fitted:hover,\n",
       ".sk-estimator-doc-link.fitted:hover,\n",
       "div.sk-label-container:hover .sk-estimator-doc-link.fitted:hover,\n",
       ".sk-estimator-doc-link.fitted:hover {\n",
       "  /* fitted */\n",
       "  background-color: var(--sklearn-color-fitted-level-3);\n",
       "  color: var(--sklearn-color-background);\n",
       "  text-decoration: none;\n",
       "}\n",
       "\n",
       "/* Span, style for the box shown on hovering the info icon */\n",
       ".sk-estimator-doc-link span {\n",
       "  display: none;\n",
       "  z-index: 9999;\n",
       "  position: relative;\n",
       "  font-weight: normal;\n",
       "  right: .2ex;\n",
       "  padding: .5ex;\n",
       "  margin: .5ex;\n",
       "  width: min-content;\n",
       "  min-width: 20ex;\n",
       "  max-width: 50ex;\n",
       "  color: var(--sklearn-color-text);\n",
       "  box-shadow: 2pt 2pt 4pt #999;\n",
       "  /* unfitted */\n",
       "  background: var(--sklearn-color-unfitted-level-0);\n",
       "  border: .5pt solid var(--sklearn-color-unfitted-level-3);\n",
       "}\n",
       "\n",
       ".sk-estimator-doc-link.fitted span {\n",
       "  /* fitted */\n",
       "  background: var(--sklearn-color-fitted-level-0);\n",
       "  border: var(--sklearn-color-fitted-level-3);\n",
       "}\n",
       "\n",
       ".sk-estimator-doc-link:hover span {\n",
       "  display: block;\n",
       "}\n",
       "\n",
       "/* \"?\"-specific style due to the `<a>` HTML tag */\n",
       "\n",
       "#sk-container-id-1 a.estimator_doc_link {\n",
       "  float: right;\n",
       "  font-size: 1rem;\n",
       "  line-height: 1em;\n",
       "  font-family: monospace;\n",
       "  background-color: var(--sklearn-color-background);\n",
       "  border-radius: 1rem;\n",
       "  height: 1rem;\n",
       "  width: 1rem;\n",
       "  text-decoration: none;\n",
       "  /* unfitted */\n",
       "  color: var(--sklearn-color-unfitted-level-1);\n",
       "  border: var(--sklearn-color-unfitted-level-1) 1pt solid;\n",
       "}\n",
       "\n",
       "#sk-container-id-1 a.estimator_doc_link.fitted {\n",
       "  /* fitted */\n",
       "  border: var(--sklearn-color-fitted-level-1) 1pt solid;\n",
       "  color: var(--sklearn-color-fitted-level-1);\n",
       "}\n",
       "\n",
       "/* On hover */\n",
       "#sk-container-id-1 a.estimator_doc_link:hover {\n",
       "  /* unfitted */\n",
       "  background-color: var(--sklearn-color-unfitted-level-3);\n",
       "  color: var(--sklearn-color-background);\n",
       "  text-decoration: none;\n",
       "}\n",
       "\n",
       "#sk-container-id-1 a.estimator_doc_link.fitted:hover {\n",
       "  /* fitted */\n",
       "  background-color: var(--sklearn-color-fitted-level-3);\n",
       "}\n",
       "</style><div id=\"sk-container-id-1\" class=\"sk-top-container\"><div class=\"sk-text-repr-fallback\"><pre>LogisticRegression(max_iter=1000)</pre><b>In a Jupyter environment, please rerun this cell to show the HTML representation or trust the notebook. <br />On GitHub, the HTML representation is unable to render, please try loading this page with nbviewer.org.</b></div><div class=\"sk-container\" hidden><div class=\"sk-item\"><div class=\"sk-estimator fitted sk-toggleable\"><input class=\"sk-toggleable__control sk-hidden--visually\" id=\"sk-estimator-id-1\" type=\"checkbox\" checked><label for=\"sk-estimator-id-1\" class=\"sk-toggleable__label fitted sk-toggleable__label-arrow fitted\">&nbsp;&nbsp;LogisticRegression<a class=\"sk-estimator-doc-link fitted\" rel=\"noreferrer\" target=\"_blank\" href=\"https://scikit-learn.org/1.5/modules/generated/sklearn.linear_model.LogisticRegression.html\">?<span>Documentation for LogisticRegression</span></a><span class=\"sk-estimator-doc-link fitted\">i<span>Fitted</span></span></label><div class=\"sk-toggleable__content fitted\"><pre>LogisticRegression(max_iter=1000)</pre></div> </div></div></div></div>"
      ],
      "text/plain": [
       "LogisticRegression(max_iter=1000)"
      ]
     },
     "execution_count": 16,
     "metadata": {},
     "output_type": "execute_result"
    }
   ],
   "source": [
    "reg_log = LogisticRegression(max_iter=1000)\n",
    "reg_log.fit(X_train, y_train)"
   ]
  },
  {
   "cell_type": "markdown",
   "metadata": {},
   "source": [
    "## Hacer Predicciones y Evaluar el Modelo"
   ]
  },
  {
   "cell_type": "code",
   "execution_count": 17,
   "metadata": {},
   "outputs": [
    {
     "name": "stdout",
     "output_type": "stream",
     "text": [
      "Accuracy: 0.975\n",
      "\n",
      "Confusion Matrix:\n",
      "[[ 2  2]\n",
      " [ 0 76]]\n",
      "\n",
      "Classification Report:\n",
      "              precision    recall  f1-score   support\n",
      "\n",
      "         0.0       1.00      0.50      0.67         4\n",
      "         1.0       0.97      1.00      0.99        76\n",
      "\n",
      "    accuracy                           0.97        80\n",
      "   macro avg       0.99      0.75      0.83        80\n",
      "weighted avg       0.98      0.97      0.97        80\n",
      "\n"
     ]
    }
   ],
   "source": [
    "y_pred = reg_log.predict(X_test)\n",
    "\n",
    "print(f'Accuracy: {accuracy_score(y_test, y_pred)}')\n",
    "print(\"\\nConfusion Matrix:\")\n",
    "print(confusion_matrix(y_test, y_pred))\n",
    "print(\"\\nClassification Report:\")\n",
    "print(classification_report(y_test, y_pred))"
   ]
  },
  {
   "cell_type": "markdown",
   "metadata": {},
   "source": [
    "## Crear y Visualizar la Matriz de Confusión"
   ]
  },
  {
   "cell_type": "code",
   "execution_count": 18,
   "metadata": {},
   "outputs": [
    {
     "data": {
      "image/png": "[encoded data removed]",
      "text/plain": [
       "<Figure size 800x600 with 2 Axes>"
      ]
     },
     "metadata": {},
     "output_type": "display_data"
    }
   ],
   "source": [
    "cm = confusion_matrix(y_test, y_pred)\n",
    "\n",
    "plt.figure(figsize=(8, 6))\n",
    "sns.heatmap(cm, annot=True, fmt='d', cmap='Blues', xticklabels=['No Internet', 'Internet'], yticklabels=['No Internet', 'Internet'])\n",
    "plt.xlabel('Predicted')\n",
    "plt.ylabel('True')\n",
    "plt.title('Confusion Matrix')\n",
    "plt.show()"
   ]
  },
  {
   "cell_type": "markdown",
   "metadata": {},
   "source": [
    "### Interpretación de los Resultados:\n",
    "\n",
    "En el contexto de clasificación binaria (sí/no, 1/0), los datos se dividen en dos clases: la clase positiva y la clase negativa. En este caso:\n",
    "\n",
    "* Clase 1: Hogares con acceso a Internet (acceso_internet = 1)\n",
    "* Clase 0: Hogares sin acceso a Internet (acceso_internet = 0)\n",
    "\n",
    "Cuando decimos que la clase 0 tiene menos datos, significa que hay significativamente menos hogares sin acceso a Internet en el conjunto de datos en comparación con los hogares que sí tienen acceso. Esto se puede observar en el informe de clasificación donde el soporte (support) muestra la cantidad de ocurrencias de cada clase:\n",
    "\n",
    "* Support para la clase 0: 4 hogares\n",
    "* Support para la clase 1: 76 hogares\n",
    "\n",
    "* Exactitud (Accuracy): La exactitud del modelo es del 97%, lo que significa que el modelo predice correctamente si un hogar tiene acceso a Internet el 97% de las veces.\n",
    "* Precision: La precisión para la clase 1 (acceso a Internet) es muy alta (0.97), lo que indica que el modelo tiene una baja tasa de falsos positivos.\n",
    "   * Clase 0: La precisión de 1.00 indica que de todos los hogares predichos como \"sin acceso a Internet\", el 100% realmente no tienen acceso a Internet.\n",
    "   * Clase 1: La precisión de 0.97 indica que de todos los hogares predichos como \"con acceso a Internet\", el 97% realmente tienen acceso a Internet.\n",
    "\n",
    "Atención!! Debido a que hay pocos ejemplos en la clase 0, el modelo puede tener dificultades para identificar correctamente estos casos, lo que puede llevar a una menor precisión en esa clase.\n",
    "\n",
    "* Recall: El recall para la clase 1 es también muy alta (1.00), lo que indica que el modelo no tiene tasa de falsos negativos.\n",
    "   * Clase 0: El recall de 0.50 indica que el 50% de todos los hogares que realmente no tienen acceso a Internet fueron correctamente identificados por el modelo.\n",
    "   * Clase 1: El recall de 1.00 indica que el 100% de todos los hogares que realmente tienen acceso a Internet fueron correctamente identificados por el modelo.\n",
    "\n",
    "La precisión y el recall para la clase 1 (Internet) son muy altos, lo que indica que el modelo es muy efectivo para identificar hogares con Internet. La clase 0 (No Internet) tiene menos datos, lo que afecta negativamente la precisión y el recall en esa clase.\n",
    "* F1-score: La f1-score para la clase 1 es alta (0.99), lo que muestra un buen equilibrio entre precisión y recall."
   ]
  },
  {
   "cell_type": "markdown",
   "metadata": {},
   "source": [
    "### Interpretación de la Matriz de Confusión\n",
    "\n",
    "* True Positives (TP): 76 hogares con Internet fueron correctamente clasificados como hogares con Internet.\n",
    "* True Negatives (TN): 2 hogares sin Internet fueron correctamente clasificados como hogares sin Internet.\n",
    "* False Positives (FP): 0 hogares sin Internet fue incorrectamente clasificado como hogares con Internet.\n",
    "* False Negatives (FN): 2 hogares con Internet fue incorrectamente clasificado como hogares sin Internet."
   ]
  },
  {
   "cell_type": "markdown",
   "metadata": {},
   "source": [
    "## Árboles de Decisión y Random Forest\n",
    "\n",
    "Pregunta: ¿Cuáles son las principales características que distinguen a los hogares que usan internet de aquellos que no lo usan?"
   ]
  },
  {
   "cell_type": "markdown",
   "metadata": {},
   "source": [
    "### Importar librerias"
   ]
  },
  {
   "cell_type": "code",
   "execution_count": 19,
   "metadata": {},
   "outputs": [],
   "source": [
    "from sklearn.tree import DecisionTreeClassifier\n",
    "from sklearn.ensemble import RandomForestClassifier"
   ]
  },
  {
   "cell_type": "markdown",
   "metadata": {},
   "source": [
    "## Entrenar y Evaluar el Modelo de Árbol de Decisión"
   ]
  },
  {
   "cell_type": "code",
   "execution_count": 20,
   "metadata": {},
   "outputs": [],
   "source": [
    "dt_model = DecisionTreeClassifier(random_state=42)\n",
    "dt_model.fit(X_train, y_train)\n",
    "y_pred_dt = dt_model.predict(X_test)\n",
    "accuracy_dt = accuracy_score(y_test, y_pred_dt)\n",
    "report_dt = classification_report(y_test, y_pred_dt)\n",
    "cm_dt = confusion_matrix(y_test, y_pred_dt)\n",
    "feature_importances_dt = pd.Series(dt_model.feature_importances_, index=features).sort_values(ascending=False)"
   ]
  },
  {
   "cell_type": "markdown",
   "metadata": {},
   "source": [
    "## Entrenar y Evaluar el Modelo de Random Forest"
   ]
  },
  {
   "cell_type": "code",
   "execution_count": 21,
   "metadata": {},
   "outputs": [],
   "source": [
    "rf_model = RandomForestClassifier(random_state=42, n_estimators=100)\n",
    "rf_model.fit(X_train, y_train)\n",
    "y_pred_rf = rf_model.predict(X_test)\n",
    "accuracy_rf = accuracy_score(y_test, y_pred_rf)\n",
    "report_rf = classification_report(y_test, y_pred_rf)\n",
    "cm_rf = confusion_matrix(y_test, y_pred_rf)\n",
    "feature_importances_rf = pd.Series(rf_model.feature_importances_, index=features).sort_values(ascending=False)"
   ]
  },
  {
   "cell_type": "markdown",
   "metadata": {},
   "source": [
    "## Mostrar Resultados e Importancia de las Características"
   ]
  },
  {
   "cell_type": "code",
   "execution_count": 24,
   "metadata": {},
   "outputs": [
    {
     "name": "stdout",
     "output_type": "stream",
     "text": [
      "Decision Tree Accuracy: 0.8875\n",
      "              precision    recall  f1-score   support\n",
      "\n",
      "         0.0       0.22      0.50      0.31         4\n",
      "         1.0       0.97      0.91      0.94        76\n",
      "\n",
      "    accuracy                           0.89        80\n",
      "   macro avg       0.60      0.70      0.62        80\n",
      "weighted avg       0.93      0.89      0.91        80\n",
      "\n",
      "Decision Tree Feature Importances:\n",
      "uso_internet         0.765926\n",
      "tiene_computadora    0.099088\n",
      "uso_movil            0.074226\n",
      "uso_computadora      0.060759\n",
      "dtype: float64\n",
      "Random Forest Accuracy: 0.925\n",
      "              precision    recall  f1-score   support\n",
      "\n",
      "         0.0       0.33      0.50      0.40         4\n",
      "         1.0       0.97      0.95      0.96        76\n",
      "\n",
      "    accuracy                           0.93        80\n",
      "   macro avg       0.65      0.72      0.68        80\n",
      "weighted avg       0.94      0.93      0.93        80\n",
      "\n",
      "Random Forest Feature Importances:\n",
      "uso_internet         0.488006\n",
      "tiene_computadora    0.334306\n",
      "uso_computadora      0.103404\n",
      "uso_movil            0.074285\n",
      "dtype: float64\n"
     ]
    },
    {
     "data": {
      "image/png": "[encoded data removed]",
      "text/plain": [
       "<Figure size 1200x600 with 2 Axes>"
      ]
     },
     "metadata": {},
     "output_type": "display_data"
    }
   ],
   "source": [
    "print(f\"Decision Tree Accuracy: {accuracy_dt}\")\n",
    "print(report_dt)\n",
    "print(\"Decision Tree Feature Importances:\")\n",
    "print(feature_importances_dt)\n",
    "\n",
    "print(f\"Random Forest Accuracy: {accuracy_rf}\")\n",
    "print(report_rf)\n",
    "print(\"Random Forest Feature Importances:\")\n",
    "print(feature_importances_rf)\n",
    "\n",
    "# Visualizar la importancia de las características\n",
    "plt.figure(figsize=(12, 6))\n",
    "\n",
    "plt.subplot(1, 2, 1)\n",
    "feature_importances_dt.plot(kind='bar', title='Importancia de las características del árbol de decisiones')\n",
    "plt.xlabel('Features')\n",
    "plt.ylabel('Inportancia')\n",
    "\n",
    "plt.subplot(1, 2, 2)\n",
    "feature_importances_rf.plot(kind='bar', title='Importancias de las características de Random Forest')\n",
    "plt.xlabel('Features')\n",
    "plt.ylabel('Inportancia')\n",
    "\n",
    "plt.tight_layout()\n",
    "plt.show()"
   ]
  },
  {
   "cell_type": "markdown",
   "metadata": {},
   "source": [
    "### Interpretación de los Resultados y comparaciones entre modelos\n",
    "\n",
    "Árbol de Decisión:\n",
    "\n",
    "* El modelo de Árbol de Decisión tiene una exactitud del 88.75%.\n",
    "* La característica más importante es `uso_internet` con una importancia del 76.59%, seguida de `tiene_computadora` con una importancia del 9.91%.\n",
    "\n",
    "Random Forest:\n",
    "\n",
    "* El modelo de Random Forest tiene una exactitud del 92.5%.\n",
    "* La característica más importante es `uso_internet` con una importancia del 48.80%, seguida de `tiene_computadora` con una importancia del 33.43%."
   ]
  },
  {
   "cell_type": "markdown",
   "metadata": {},
   "source": [
    "### Conclusión:\n",
    "\n",
    "* Ambas técnicas indican que el uso de Internet y tener una computadora son las características más importantes para distinguir entre hogares que usan Internet y aquellos que no lo usan.\n",
    "* El modelo de Random Forest ofrece una precisión mayor y proporciona una importancia más equilibrada entre las características en comparación con el Árbol de Decisión."
   ]
  },
  {
   "cell_type": "markdown",
   "metadata": {},
   "source": [
    "El modelo de Random Forest tiene un mejor rendimiento general en comparación con el modelo de Árbol de Decisión. Tiene una mayor exactitud, y mejor precisión, recall y f1-score para ambas clases. Por lo tanto, para distinguir entre hogares que usan Internet y aquellos que no lo usan, el modelo de Random Forest es la mejor opción."
   ]
  }
 ],
 "metadata": {
  "kernelspec": {
   "display_name": "Python 3",
   "language": "python",
   "name": "python3"
  },
  "language_info": {
   "codemirror_mode": {
    "name": "ipython",
    "version": 3
   },
   "file_extension": ".py",
   "mimetype": "text/x-python",
   "name": "python",
   "nbconvert_exporter": "python",
   "pygments_lexer": "ipython3",
   "version": "3.11.1"
  }
 },
 "nbformat": 4,
 "nbformat_minor": 2
}
